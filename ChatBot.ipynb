{
  "nbformat": 4,
  "nbformat_minor": 0,
  "metadata": {
    "colab": {
      "provenance": [],
      "authorship_tag": "ABX9TyPKuja4ujix1Sz5MczSJsK/",
      "include_colab_link": true
    },
    "kernelspec": {
      "name": "python3",
      "display_name": "Python 3"
    },
    "language_info": {
      "name": "python"
    }
  },
  "cells": [
    {
      "cell_type": "markdown",
      "metadata": {
        "id": "view-in-github",
        "colab_type": "text"
      },
      "source": [
        "<a href=\"https://colab.research.google.com/github/kira0-001/CODSOFT/blob/main/ChatBot.ipynb\" target=\"_parent\"><img src=\"https://colab.research.google.com/assets/colab-badge.svg\" alt=\"Open In Colab\"/></a>"
      ]
    },
    {
      "cell_type": "code",
      "execution_count": 1,
      "metadata": {
        "colab": {
          "base_uri": "https://localhost:8080/"
        },
        "id": "_80hpaG-vSOd",
        "outputId": "a7ba6c89-9ab3-4cca-d5cf-6b71a7e540c9"
      },
      "outputs": [
        {
          "output_type": "stream",
          "name": "stdout",
          "text": [
            "Chatbot: Hello! I'm a simple rule-based chatbot. \n",
            "Type 'bye, quit, exit' to exit.\n",
            "You: hi\n",
            "Chatbot: Hello! How can I help you today?\n",
            "You: joke\n",
            "Chatbot: Why don't skeletons fight each other? They don't have the guts.\n",
            "You: help\n",
            "Chatbot: I can answer basic questions. Try asking about me, say hello, or ask how I am.\n",
            "You: your name\n",
            "Chatbot: I'm a simple chatbot!\n",
            "You: bye\n",
            "Chatbot: Goodbye! Have a nice day!\n"
          ]
        }
      ],
      "source": [
        "def simple_chatbot():\n",
        "    print(\"Chatbot: Hello! I'm a simple rule-based chatbot. \\nType 'bye, quit, exit' to exit.\")\n",
        "\n",
        "    while True:\n",
        "        user_input = input(\"You: \").lower().strip()\n",
        "        if user_input == 'bye' or user_input == 'quit' or user_input == 'exit':\n",
        "            print(\"Chatbot: Goodbye! Have a nice day!\")\n",
        "            break\n",
        "        elif 'hello' in user_input or 'hi' in user_input or 'hey' in user_input:\n",
        "            print(\"Chatbot: Hello! How can I help you today?\")\n",
        "\n",
        "        elif 'how are you' in user_input:\n",
        "            print(\"Chatbot: I'm just a program, but I'm doing well, thanks!\")\n",
        "\n",
        "        elif 'your name' in user_input or 'who are you' in user_input:\n",
        "            print(\"Chatbot: I'm a simple chatbot!\")\n",
        "\n",
        "        elif 'help' in user_input:\n",
        "            print(\"Chatbot: I can answer basic questions. Try asking about me, say hello, or ask how I am.\")\n",
        "\n",
        "        elif 'weather' in user_input:\n",
        "            print(\"Chatbot: I don't know the current weather, but I hope it's sunny where you are!\")\n",
        "\n",
        "        elif 'thank' in user_input:\n",
        "            print(\"Chatbot: You're welcome! Let me know if you need anything else.\")\n",
        "\n",
        "        elif 'joke' in user_input or 'tell me a joke' in user_input:\n",
        "            print(\"Chatbot: Why don't skeletons fight each other? They don't have the guts.\")\n",
        "\n",
        "        else:\n",
        "            print(\"Chatbot: I'm not sure I understand. Can you rephrase that?\")\n",
        "\n",
        "if __name__ == \"__main__\":\n",
        "    simple_chatbot()\n"
      ]
    }
  ]
}